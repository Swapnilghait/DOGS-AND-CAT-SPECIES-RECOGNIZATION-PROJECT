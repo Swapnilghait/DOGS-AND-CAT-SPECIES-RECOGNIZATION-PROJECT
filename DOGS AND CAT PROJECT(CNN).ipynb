{
 "cells": [
  {
   "cell_type": "markdown",
   "id": "f3a15301-9d71-4f6e-8254-3c8b1892b2c0",
   "metadata": {},
   "source": [
    "# CATS AND DOG PROJECT "
   ]
  },
  {
   "cell_type": "markdown",
   "id": "f5177484-75da-49ad-b9eb-50de00bc5dc3",
   "metadata": {},
   "source": [
    "## Importing libraries"
   ]
  },
  {
   "cell_type": "code",
   "execution_count": 2,
   "id": "ba74be9c-ce6b-4062-b5c8-eede5c9934b9",
   "metadata": {},
   "outputs": [
    {
     "name": "stdout",
     "output_type": "stream",
     "text": [
      "Requirement already satisfied: tensorflow in c:\\users\\swapn\\anaconda3\\lib\\site-packages (2.15.0)\n",
      "Requirement already satisfied: tensorflow-intel==2.15.0 in c:\\users\\swapn\\anaconda3\\lib\\site-packages (from tensorflow) (2.15.0)\n",
      "Requirement already satisfied: absl-py>=1.0.0 in c:\\users\\swapn\\anaconda3\\lib\\site-packages (from tensorflow-intel==2.15.0->tensorflow) (2.1.0)\n",
      "Requirement already satisfied: astunparse>=1.6.0 in c:\\users\\swapn\\anaconda3\\lib\\site-packages (from tensorflow-intel==2.15.0->tensorflow) (1.6.3)\n",
      "Requirement already satisfied: flatbuffers>=23.5.26 in c:\\users\\swapn\\anaconda3\\lib\\site-packages (from tensorflow-intel==2.15.0->tensorflow) (23.5.26)\n",
      "Requirement already satisfied: gast!=0.5.0,!=0.5.1,!=0.5.2,>=0.2.1 in c:\\users\\swapn\\anaconda3\\lib\\site-packages (from tensorflow-intel==2.15.0->tensorflow) (0.5.4)\n",
      "Requirement already satisfied: google-pasta>=0.1.1 in c:\\users\\swapn\\anaconda3\\lib\\site-packages (from tensorflow-intel==2.15.0->tensorflow) (0.2.0)\n",
      "Requirement already satisfied: h5py>=2.9.0 in c:\\users\\swapn\\anaconda3\\lib\\site-packages (from tensorflow-intel==2.15.0->tensorflow) (3.10.0)\n",
      "Requirement already satisfied: libclang>=13.0.0 in c:\\users\\swapn\\anaconda3\\lib\\site-packages (from tensorflow-intel==2.15.0->tensorflow) (16.0.6)\n",
      "Requirement already satisfied: ml-dtypes~=0.2.0 in c:\\users\\swapn\\anaconda3\\lib\\site-packages (from tensorflow-intel==2.15.0->tensorflow) (0.2.0)\n",
      "Requirement already satisfied: numpy<2.0.0,>=1.23.5 in c:\\users\\swapn\\anaconda3\\lib\\site-packages (from tensorflow-intel==2.15.0->tensorflow) (1.26.2)\n",
      "Requirement already satisfied: opt-einsum>=2.3.2 in c:\\users\\swapn\\anaconda3\\lib\\site-packages (from tensorflow-intel==2.15.0->tensorflow) (3.3.0)\n",
      "Requirement already satisfied: packaging in c:\\users\\swapn\\appdata\\roaming\\python\\python311\\site-packages (from tensorflow-intel==2.15.0->tensorflow) (23.2)\n",
      "Requirement already satisfied: protobuf!=4.21.0,!=4.21.1,!=4.21.2,!=4.21.3,!=4.21.4,!=4.21.5,<5.0.0dev,>=3.20.3 in c:\\users\\swapn\\anaconda3\\lib\\site-packages (from tensorflow-intel==2.15.0->tensorflow) (4.23.4)\n",
      "Requirement already satisfied: setuptools in c:\\users\\swapn\\anaconda3\\lib\\site-packages (from tensorflow-intel==2.15.0->tensorflow) (67.8.0)\n",
      "Requirement already satisfied: six>=1.12.0 in c:\\users\\swapn\\appdata\\roaming\\python\\python311\\site-packages (from tensorflow-intel==2.15.0->tensorflow) (1.16.0)\n",
      "Requirement already satisfied: termcolor>=1.1.0 in c:\\users\\swapn\\anaconda3\\lib\\site-packages (from tensorflow-intel==2.15.0->tensorflow) (2.4.0)\n",
      "Requirement already satisfied: typing-extensions>=3.6.6 in c:\\users\\swapn\\anaconda3\\lib\\site-packages (from tensorflow-intel==2.15.0->tensorflow) (4.7.1)\n",
      "Requirement already satisfied: wrapt<1.15,>=1.11.0 in c:\\users\\swapn\\anaconda3\\lib\\site-packages (from tensorflow-intel==2.15.0->tensorflow) (1.14.1)\n",
      "Requirement already satisfied: tensorflow-io-gcs-filesystem>=0.23.1 in c:\\users\\swapn\\anaconda3\\lib\\site-packages (from tensorflow-intel==2.15.0->tensorflow) (0.31.0)\n",
      "Requirement already satisfied: grpcio<2.0,>=1.24.3 in c:\\users\\swapn\\anaconda3\\lib\\site-packages (from tensorflow-intel==2.15.0->tensorflow) (1.60.1)\n",
      "Requirement already satisfied: tensorboard<2.16,>=2.15 in c:\\users\\swapn\\anaconda3\\lib\\site-packages (from tensorflow-intel==2.15.0->tensorflow) (2.15.1)\n",
      "Requirement already satisfied: tensorflow-estimator<2.16,>=2.15.0 in c:\\users\\swapn\\anaconda3\\lib\\site-packages (from tensorflow-intel==2.15.0->tensorflow) (2.15.0)\n",
      "Requirement already satisfied: keras<2.16,>=2.15.0 in c:\\users\\swapn\\anaconda3\\lib\\site-packages (from tensorflow-intel==2.15.0->tensorflow) (2.15.0)\n",
      "Requirement already satisfied: wheel<1.0,>=0.23.0 in c:\\users\\swapn\\anaconda3\\lib\\site-packages (from astunparse>=1.6.0->tensorflow-intel==2.15.0->tensorflow) (0.38.4)\n",
      "Requirement already satisfied: google-auth<3,>=1.6.3 in c:\\users\\swapn\\anaconda3\\lib\\site-packages (from tensorboard<2.16,>=2.15->tensorflow-intel==2.15.0->tensorflow) (2.27.0)\n",
      "Requirement already satisfied: google-auth-oauthlib<2,>=0.5 in c:\\users\\swapn\\anaconda3\\lib\\site-packages (from tensorboard<2.16,>=2.15->tensorflow-intel==2.15.0->tensorflow) (1.2.0)\n",
      "Requirement already satisfied: markdown>=2.6.8 in c:\\users\\swapn\\anaconda3\\lib\\site-packages (from tensorboard<2.16,>=2.15->tensorflow-intel==2.15.0->tensorflow) (3.5.2)\n",
      "Requirement already satisfied: requests<3,>=2.21.0 in c:\\users\\swapn\\anaconda3\\lib\\site-packages (from tensorboard<2.16,>=2.15->tensorflow-intel==2.15.0->tensorflow) (2.31.0)\n",
      "Requirement already satisfied: tensorboard-data-server<0.8.0,>=0.7.0 in c:\\users\\swapn\\anaconda3\\lib\\site-packages (from tensorboard<2.16,>=2.15->tensorflow-intel==2.15.0->tensorflow) (0.7.2)\n",
      "Requirement already satisfied: werkzeug>=1.0.1 in c:\\users\\swapn\\anaconda3\\lib\\site-packages (from tensorboard<2.16,>=2.15->tensorflow-intel==2.15.0->tensorflow) (3.0.1)\n",
      "Requirement already satisfied: cachetools<6.0,>=2.0.0 in c:\\users\\swapn\\anaconda3\\lib\\site-packages (from google-auth<3,>=1.6.3->tensorboard<2.16,>=2.15->tensorflow-intel==2.15.0->tensorflow) (5.3.2)\n",
      "Requirement already satisfied: pyasn1-modules>=0.2.1 in c:\\users\\swapn\\anaconda3\\lib\\site-packages (from google-auth<3,>=1.6.3->tensorboard<2.16,>=2.15->tensorflow-intel==2.15.0->tensorflow) (0.3.0)\n",
      "Requirement already satisfied: rsa<5,>=3.1.4 in c:\\users\\swapn\\anaconda3\\lib\\site-packages (from google-auth<3,>=1.6.3->tensorboard<2.16,>=2.15->tensorflow-intel==2.15.0->tensorflow) (4.9)\n",
      "Requirement already satisfied: requests-oauthlib>=0.7.0 in c:\\users\\swapn\\anaconda3\\lib\\site-packages (from google-auth-oauthlib<2,>=0.5->tensorboard<2.16,>=2.15->tensorflow-intel==2.15.0->tensorflow) (1.3.1)\n",
      "Requirement already satisfied: charset-normalizer<4,>=2 in c:\\users\\swapn\\anaconda3\\lib\\site-packages (from requests<3,>=2.21.0->tensorboard<2.16,>=2.15->tensorflow-intel==2.15.0->tensorflow) (2.0.4)\n",
      "Requirement already satisfied: idna<4,>=2.5 in c:\\users\\swapn\\anaconda3\\lib\\site-packages (from requests<3,>=2.21.0->tensorboard<2.16,>=2.15->tensorflow-intel==2.15.0->tensorflow) (3.4)\n",
      "Requirement already satisfied: urllib3<3,>=1.21.1 in c:\\users\\swapn\\anaconda3\\lib\\site-packages (from requests<3,>=2.21.0->tensorboard<2.16,>=2.15->tensorflow-intel==2.15.0->tensorflow) (1.26.18)\n",
      "Requirement already satisfied: certifi>=2017.4.17 in c:\\users\\swapn\\anaconda3\\lib\\site-packages (from requests<3,>=2.21.0->tensorboard<2.16,>=2.15->tensorflow-intel==2.15.0->tensorflow) (2023.11.17)\n",
      "Requirement already satisfied: MarkupSafe>=2.1.1 in c:\\users\\swapn\\anaconda3\\lib\\site-packages (from werkzeug>=1.0.1->tensorboard<2.16,>=2.15->tensorflow-intel==2.15.0->tensorflow) (2.1.1)\n",
      "Requirement already satisfied: pyasn1<0.6.0,>=0.4.6 in c:\\users\\swapn\\anaconda3\\lib\\site-packages (from pyasn1-modules>=0.2.1->google-auth<3,>=1.6.3->tensorboard<2.16,>=2.15->tensorflow-intel==2.15.0->tensorflow) (0.5.1)\n",
      "Requirement already satisfied: oauthlib>=3.0.0 in c:\\users\\swapn\\anaconda3\\lib\\site-packages (from requests-oauthlib>=0.7.0->google-auth-oauthlib<2,>=0.5->tensorboard<2.16,>=2.15->tensorflow-intel==2.15.0->tensorflow) (3.2.2)\n",
      "Note: you may need to restart the kernel to use updated packages.\n"
     ]
    }
   ],
   "source": [
    "pip install tensorflow"
   ]
  },
  {
   "cell_type": "code",
   "execution_count": 3,
   "id": "10fe3178-cc79-4ac5-8a61-35a76c0d8d86",
   "metadata": {},
   "outputs": [
    {
     "name": "stdout",
     "output_type": "stream",
     "text": [
      "Requirement already satisfied: keras in c:\\users\\swapn\\anaconda3\\lib\\site-packages (2.15.0)Note: you may need to restart the kernel to use updated packages.\n",
      "\n"
     ]
    }
   ],
   "source": [
    "pip install keras"
   ]
  },
  {
   "cell_type": "code",
   "execution_count": 4,
   "id": "6ac74328-06a2-46b8-ace6-53b4c8497b62",
   "metadata": {},
   "outputs": [
    {
     "name": "stdout",
     "output_type": "stream",
     "text": [
      "WARNING:tensorflow:From C:\\Users\\swapn\\anaconda3\\Lib\\site-packages\\keras\\src\\losses.py:2976: The name tf.losses.sparse_softmax_cross_entropy is deprecated. Please use tf.compat.v1.losses.sparse_softmax_cross_entropy instead.\n",
      "\n"
     ]
    }
   ],
   "source": [
    "import tensorflow as tf \n",
    "from keras.preprocessing.image import ImageDataGenerator  \n",
    "# ImageDataGeneraor is used for generating the images\n",
    "# the colors of images ranges from 0-255 (works like feature scaling)\n",
    "# but we will take it in the 0/1 format"
   ]
  },
  {
   "cell_type": "code",
   "execution_count": 5,
   "id": "e973adfd-9ee8-4705-b4de-8cdafc773663",
   "metadata": {},
   "outputs": [
    {
     "data": {
      "text/plain": [
       "'2.15.0'"
      ]
     },
     "execution_count": 5,
     "metadata": {},
     "output_type": "execute_result"
    }
   ],
   "source": [
    "# we will cheak the version of tensorrflow \n",
    "tf.__version__"
   ]
  },
  {
   "cell_type": "markdown",
   "id": "1df56866-472f-40c2-a4ad-e7f31baf772d",
   "metadata": {},
   "source": [
    "## Part 1 : Data Preprocessing "
   ]
  },
  {
   "cell_type": "markdown",
   "id": "6c50edaf-42e2-4bbd-ae92-75373d85320b",
   "metadata": {},
   "source": [
    "## Preprocessing The Training Data "
   ]
  },
  {
   "cell_type": "code",
   "execution_count": 6,
   "id": "7398da3d-dfae-4a70-9220-e9b6156fd69b",
   "metadata": {},
   "outputs": [
    {
     "name": "stdout",
     "output_type": "stream",
     "text": [
      "Found 8000 images belonging to 2 classes.\n"
     ]
    }
   ],
   "source": [
    "# we will apply diffrent transformations on the image \n",
    "# rescale : we will standerise ll value in standerise form \n",
    "# share_range : we will move image closckwise in particular angle \n",
    "# zomm_range : we will zoom the image \n",
    "# horizontal_flip : we will set our image horizontally \n",
    "\n",
    "train_datagen = ImageDataGenerator(rescale=1./255 ,\n",
    "                                   shear_range=0.2 ,\n",
    "                                   zoom_range=0.2 ,\n",
    "                                   horizontal_flip=True )\n",
    "\n",
    "# we will import the dataset from our file directory directly \n",
    "# we are not using pandas here for importing \n",
    "\n",
    "# target_size : All images will have the diffrent size we will set them in the particular size \n",
    "# batch_size : we will not take all images at once we will divide all dataset images in batches of 32 \n",
    "# class_mode : In the training set folder we have further 2 subfolders ( 2 categories)\n",
    "\n",
    "training_set = train_datagen.flow_from_directory(r\"C:\\Users\\swapn\\Machine learning projects\\PREPINSTA\\DATASET\\CATS AND DOGS PROJECT\\dogs_cats\\training_set\" ,\n",
    "                                                 target_size=(64,64), \n",
    "                                                 batch_size=32 , \n",
    "                                                 class_mode='binary' )\n",
    "                                                 \n",
    "                                                 \n",
    "\n",
    " # it will tell us how many images present and preset folders "
   ]
  },
  {
   "cell_type": "markdown",
   "id": "9086764a-40dc-4bfd-8685-e7a51cc13330",
   "metadata": {},
   "source": [
    "## Preprocessing The Test Set "
   ]
  },
  {
   "cell_type": "code",
   "execution_count": 7,
   "id": "5aaa56dd-bfe6-4d68-bc73-8486c23d5332",
   "metadata": {},
   "outputs": [
    {
     "name": "stdout",
     "output_type": "stream",
     "text": [
      "Found 2000 images belonging to 2 classes.\n"
     ]
    }
   ],
   "source": [
    "train_datagen = ImageDataGenerator(rescale=1./255 )\n",
    "\n",
    "# WE CAN ALSO USE THIS HERE BUT WE WILL NOT USE IT \n",
    "# shear_range=0.2 , shear_range=0.2 , shear_range=0.2 , shear_range=0.2 ,\n",
    "\n",
    "test_set = train_datagen.flow_from_directory(r\"C:\\Users\\swapn\\Machine learning projects\\PREPINSTA\\DATASET\\CATS AND DOGS PROJECT\\dogs_cats\\test_set\" ,\n",
    "                                                 target_size=(64,64), \n",
    "                                                 batch_size=32 , \n",
    "                                                 class_mode='binary' )\n",
    "\n",
    "# it will tell us total images and total folders present in the testing set folder "
   ]
  },
  {
   "cell_type": "markdown",
   "id": "3ea8de44-d6b0-4d08-ba2b-4031c3f3a34f",
   "metadata": {},
   "source": [
    "## PART 2 : BUILDING THE CNN"
   ]
  },
  {
   "cell_type": "markdown",
   "id": "532fe784-53ec-4bad-a670-cb37e117cdad",
   "metadata": {},
   "source": [
    "## Initializing the CNN"
   ]
  },
  {
   "cell_type": "code",
   "execution_count": 8,
   "id": "5be5b7c9-855f-494e-a8ef-02dca717d394",
   "metadata": {},
   "outputs": [
    {
     "name": "stdout",
     "output_type": "stream",
     "text": [
      "WARNING:tensorflow:From C:\\Users\\swapn\\anaconda3\\Lib\\site-packages\\keras\\src\\backend.py:873: The name tf.get_default_graph is deprecated. Please use tf.compat.v1.get_default_graph instead.\n",
      "\n"
     ]
    }
   ],
   "source": [
    "cnn = tf.keras.models.Sequential()\n",
    "\n",
    "# WE HAVE CREATED THE INITIALIZATION FOR THE NEURONS WE ARE GOING TO USE "
   ]
  },
  {
   "cell_type": "markdown",
   "id": "7345d1c0-18ca-4b9b-b099-7dd30218d41e",
   "metadata": {},
   "source": [
    "## Step 1 : Convolution "
   ]
  },
  {
   "cell_type": "code",
   "execution_count": 9,
   "id": "1d787c45-8980-4064-90fa-8ffe77e58b98",
   "metadata": {},
   "outputs": [],
   "source": [
    "# filters=32 : WE WILL APPLY NO.OF FILTERS ON THE INPUT IMAGE \n",
    "# EACH FILTER IS USED FOR DETECTING THE SPECIFIC FEATURE FROM THE IMAGE \n",
    "\n",
    "# kernel_size=3 : SPECIFY THE HEIGHT OF CONVOLUTIONAL WINDOW  , HERE 3 : THE CONVOLUTIONAL KERNAL WILL CREATE THE 3* 3 MATRIX FOR EACH IMAGE \n",
    "\n",
    "# activation = \"relu\" : RECTIFIED LINEAR UNIT # IT WILL RETURN THE IMPUT IMAGE IS O/1 \n",
    "# FOR INCREASING THE NON LINEARITY OF THE IMAGE \n",
    "\n",
    "# input_shape = [64 , 64 , 3] : WE WILL SPECIFY THE SIZE ( HEIGHT , WIDTH , CHANNELS )\n",
    "# CHANNELS : NO.OF COLUR CHANNNEL \n",
    "\n",
    "\n",
    "cnn.add(tf.keras.layers.Conv2D(filters=32 , kernel_size=3 , activation = \"relu\" , input_shape = [64 , 64 , 3]))"
   ]
  },
  {
   "cell_type": "markdown",
   "id": "e24998b0-8ee2-4c63-bb6f-e0a0fd1dde06",
   "metadata": {},
   "source": [
    "## Step 2 : Pooling "
   ]
  },
  {
   "cell_type": "code",
   "execution_count": 10,
   "id": "76e16f1e-5f89-479c-bdf7-72ff0059fda6",
   "metadata": {},
   "outputs": [
    {
     "name": "stdout",
     "output_type": "stream",
     "text": [
      "WARNING:tensorflow:From C:\\Users\\swapn\\anaconda3\\Lib\\site-packages\\keras\\src\\layers\\pooling\\max_pooling2d.py:161: The name tf.nn.max_pool is deprecated. Please use tf.nn.max_pool2d instead.\n",
      "\n"
     ]
    }
   ],
   "source": [
    "cnn.add(tf.keras.layers.MaxPool2D(pool_size = 2 , strides = 2 ))\n",
    "\n",
    "# pool_size = 2 : we will take here 2*2 window from the above created window \n",
    "# strides = 2  :  we will tell how our window will move it will move 2*2 in the metrix in vertically and horizontaly \n",
    "\n",
    "# we will find the maximum size from the pooling created metix "
   ]
  },
  {
   "cell_type": "markdown",
   "id": "38b5c5b3-8e2a-44fc-a077-3c4401615de7",
   "metadata": {},
   "source": [
    "## Adding A Second Convolutional layer "
   ]
  },
  {
   "cell_type": "code",
   "execution_count": 11,
   "id": "fde9e07f-c98a-4630-aaca-4e54ffbba958",
   "metadata": {},
   "outputs": [],
   "source": [
    "# we have created the metrix in after pooling \n",
    "# we will identify the max_size from the polling matrix \n",
    "\n",
    "# we will use the 2 layers neural network for the better prediction \n",
    "\n",
    "cnn.add(tf.keras.layers.Conv2D(filters=32 , kernel_size=3 , activation = \"relu\" , input_shape = [64 , 64 , 3])) \n",
    "cnn.add(tf.keras.layers.MaxPool2D(pool_size = 2 , strides = 2 ))\n"
   ]
  },
  {
   "cell_type": "markdown",
   "id": "aa55f777-d4ac-4a2c-abd0-afdefbc9a07c",
   "metadata": {},
   "source": [
    "## Step 3 : Flattering "
   ]
  },
  {
   "cell_type": "code",
   "execution_count": 12,
   "id": "9d92224e-e50d-4bf5-b785-cd4076390465",
   "metadata": {},
   "outputs": [],
   "source": [
    "# we have created the 2 neurons layers but this neurons layers cant accept the values of images \n",
    "# so using flattering for this this will convert this values into the linear data points \n",
    "\n",
    "cnn.add(tf.keras.layers.Flatten())\n"
   ]
  },
  {
   "cell_type": "markdown",
   "id": "5f082b69-369c-4753-a08f-3957199ccdb8",
   "metadata": {},
   "source": [
    "## Step 4 : Full Connections "
   ]
  },
  {
   "cell_type": "code",
   "execution_count": 13,
   "id": "e51b6b78-60b5-4c82-9491-880b0f4ef5ed",
   "metadata": {},
   "outputs": [],
   "source": [
    "# finally we will make the full connection with the neurons \n",
    "# units = 120 : cicles present in the neuronsl network (in hidden layer)\n",
    "# activation = \"relu\" we will use it \n",
    "\n",
    "# we will use the DENSE function for this making the connection \n",
    "\n",
    "cnn.add(tf.keras.layers.Dense(units = 120 , activation = \"relu\")) "
   ]
  },
  {
   "cell_type": "markdown",
   "id": "6251d253-59e3-4a72-902d-f366a6aec5a3",
   "metadata": {},
   "source": [
    "## Step 5 : Output Layer "
   ]
  },
  {
   "cell_type": "code",
   "execution_count": 14,
   "id": "e9367ea8-21ad-41a6-8466-2d18006ea2e1",
   "metadata": {},
   "outputs": [],
   "source": [
    "# we will create the output layer now \n",
    "# unit = 1 : the output layer will hav 1 cicle as we know \n",
    "# activation = \" sigmoid\" # activation function is also used in the output layer also \n",
    "\n",
    "# only in the output layer the activation function will be sigmoid \n",
    "\n",
    "cnn.add(tf.keras.layers.Dense(units = 1 , activation=\"sigmoid\" ))"
   ]
  },
  {
   "cell_type": "markdown",
   "id": "9d7ed4ab-4385-4856-b19b-c994655ec2c8",
   "metadata": {},
   "source": [
    "## Part 3 : Training the CNN"
   ]
  },
  {
   "cell_type": "markdown",
   "id": "074eae3f-01df-419c-bb57-c0464614d270",
   "metadata": {},
   "source": [
    "## Compiling the CNN"
   ]
  },
  {
   "cell_type": "code",
   "execution_count": 15,
   "id": "baa1e415-86c5-43ea-a338-11718f4518ef",
   "metadata": {},
   "outputs": [
    {
     "name": "stdout",
     "output_type": "stream",
     "text": [
      "WARNING:tensorflow:From C:\\Users\\swapn\\anaconda3\\Lib\\site-packages\\keras\\src\\optimizers\\__init__.py:309: The name tf.train.Optimizer is deprecated. Please use tf.compat.v1.train.Optimizer instead.\n",
      "\n"
     ]
    }
   ],
   "source": [
    "# optimizer = \" adam : used for predicting the weights for the input layer values(features )\n",
    "# loss = \"binary_crossentropy\" : WE NEED THE RESULT IN BINARY FORMAT # we will store this binary in all the neiurons \n",
    "# metrics = \"accuracy\" : for increasing the performance and the accuracy \n",
    "# we will compile the cnn \n",
    "\n",
    "# DATA IS BINARY SO WE USED BINARY CROSSENTROPY \n",
    "# IF THE DATA IS CATEGORICAL THEN WE MUST HAVE USED THE CATEGORICAL_CROSSENTROPY \n",
    "\n",
    "cnn.compile(optimizer = \"adam\" , loss = \"binary_crossentropy\" , metrics = [\"accuracy\"] )\n"
   ]
  },
  {
   "cell_type": "markdown",
   "id": "206f1dd2-022d-42a8-a74f-237e65d87ab5",
   "metadata": {},
   "source": [
    "## Training the CNN on the training set and evaluting the test set "
   ]
  },
  {
   "cell_type": "code",
   "execution_count": 16,
   "id": "a6c2b07d-4b2b-4878-8cb1-82595bdef479",
   "metadata": {},
   "outputs": [
    {
     "name": "stdout",
     "output_type": "stream",
     "text": [
      "Epoch 1/25\n",
      "WARNING:tensorflow:From C:\\Users\\swapn\\anaconda3\\Lib\\site-packages\\keras\\src\\utils\\tf_utils.py:492: The name tf.ragged.RaggedTensorValue is deprecated. Please use tf.compat.v1.ragged.RaggedTensorValue instead.\n",
      "\n",
      "WARNING:tensorflow:From C:\\Users\\swapn\\anaconda3\\Lib\\site-packages\\keras\\src\\engine\\base_layer_utils.py:384: The name tf.executing_eagerly_outside_functions is deprecated. Please use tf.compat.v1.executing_eagerly_outside_functions instead.\n",
      "\n",
      "250/250 [==============================] - 75s 292ms/step - loss: 0.6801 - accuracy: 0.5685 - val_loss: 0.6265 - val_accuracy: 0.6565\n",
      "Epoch 2/25\n",
      "250/250 [==============================] - 44s 174ms/step - loss: 0.6216 - accuracy: 0.6539 - val_loss: 0.6030 - val_accuracy: 0.6795\n",
      "Epoch 3/25\n",
      "250/250 [==============================] - 44s 178ms/step - loss: 0.5706 - accuracy: 0.7024 - val_loss: 0.5457 - val_accuracy: 0.7265\n",
      "Epoch 4/25\n",
      "250/250 [==============================] - 44s 178ms/step - loss: 0.5346 - accuracy: 0.7299 - val_loss: 0.5273 - val_accuracy: 0.7450\n",
      "Epoch 5/25\n",
      "250/250 [==============================] - 43s 172ms/step - loss: 0.5095 - accuracy: 0.7496 - val_loss: 0.5009 - val_accuracy: 0.7630\n",
      "Epoch 6/25\n",
      "250/250 [==============================] - 44s 177ms/step - loss: 0.4898 - accuracy: 0.7607 - val_loss: 0.5307 - val_accuracy: 0.7425\n",
      "Epoch 7/25\n",
      "250/250 [==============================] - 44s 177ms/step - loss: 0.4736 - accuracy: 0.7735 - val_loss: 0.5177 - val_accuracy: 0.7535\n",
      "Epoch 8/25\n",
      "250/250 [==============================] - 45s 181ms/step - loss: 0.4608 - accuracy: 0.7886 - val_loss: 0.4978 - val_accuracy: 0.7705\n",
      "Epoch 9/25\n",
      "250/250 [==============================] - 61s 243ms/step - loss: 0.4387 - accuracy: 0.7964 - val_loss: 0.4854 - val_accuracy: 0.7700\n",
      "Epoch 10/25\n",
      "250/250 [==============================] - 59s 234ms/step - loss: 0.4264 - accuracy: 0.8025 - val_loss: 0.4626 - val_accuracy: 0.7935\n",
      "Epoch 11/25\n",
      "250/250 [==============================] - 61s 242ms/step - loss: 0.4146 - accuracy: 0.8044 - val_loss: 0.4518 - val_accuracy: 0.7905\n",
      "Epoch 12/25\n",
      "250/250 [==============================] - 62s 247ms/step - loss: 0.3895 - accuracy: 0.8194 - val_loss: 0.4489 - val_accuracy: 0.8065\n",
      "Epoch 13/25\n",
      "250/250 [==============================] - 54s 215ms/step - loss: 0.3779 - accuracy: 0.8260 - val_loss: 0.4358 - val_accuracy: 0.8050\n",
      "Epoch 14/25\n",
      "250/250 [==============================] - 58s 233ms/step - loss: 0.3641 - accuracy: 0.8335 - val_loss: 0.4739 - val_accuracy: 0.7825\n",
      "Epoch 15/25\n",
      "250/250 [==============================] - 46s 185ms/step - loss: 0.3553 - accuracy: 0.8400 - val_loss: 0.5294 - val_accuracy: 0.7850\n",
      "Epoch 16/25\n",
      "250/250 [==============================] - 44s 175ms/step - loss: 0.3412 - accuracy: 0.8419 - val_loss: 0.4777 - val_accuracy: 0.7950\n",
      "Epoch 17/25\n",
      "250/250 [==============================] - 44s 175ms/step - loss: 0.3299 - accuracy: 0.8591 - val_loss: 0.4797 - val_accuracy: 0.7985\n",
      "Epoch 18/25\n",
      "250/250 [==============================] - 43s 171ms/step - loss: 0.3187 - accuracy: 0.8589 - val_loss: 0.5680 - val_accuracy: 0.7740\n",
      "Epoch 19/25\n",
      "250/250 [==============================] - 44s 174ms/step - loss: 0.3106 - accuracy: 0.8620 - val_loss: 0.4593 - val_accuracy: 0.8055\n",
      "Epoch 20/25\n",
      "250/250 [==============================] - 52s 209ms/step - loss: 0.2996 - accuracy: 0.8715 - val_loss: 0.5339 - val_accuracy: 0.8010\n",
      "Epoch 21/25\n",
      "250/250 [==============================] - 49s 194ms/step - loss: 0.2863 - accuracy: 0.8779 - val_loss: 0.4689 - val_accuracy: 0.8110\n",
      "Epoch 22/25\n",
      "250/250 [==============================] - 49s 194ms/step - loss: 0.2835 - accuracy: 0.8750 - val_loss: 0.4959 - val_accuracy: 0.7960\n",
      "Epoch 23/25\n",
      "250/250 [==============================] - 63s 253ms/step - loss: 0.2639 - accuracy: 0.8890 - val_loss: 0.5197 - val_accuracy: 0.8145\n",
      "Epoch 24/25\n",
      "250/250 [==============================] - 54s 215ms/step - loss: 0.2508 - accuracy: 0.8981 - val_loss: 0.5443 - val_accuracy: 0.7910\n",
      "Epoch 25/25\n",
      "250/250 [==============================] - 62s 248ms/step - loss: 0.2383 - accuracy: 0.9026 - val_loss: 0.4786 - val_accuracy: 0.8155\n"
     ]
    },
    {
     "data": {
      "text/plain": [
       "<keras.src.callbacks.History at 0x20dae6b4bd0>"
      ]
     },
     "execution_count": 16,
     "metadata": {},
     "output_type": "execute_result"
    }
   ],
   "source": [
    "# NOW WE WILL TRAIN OUR MODEL USING THE TRAINING SET DATA AND THE TESTING SET DATA \n",
    "\n",
    "# epochs = 20 : means we will train our model 20 times \n",
    "# in ann we have done this 120 times \n",
    "\n",
    "# x = training set : means we will takwe the traing set data \n",
    "# our model will learn from this \n",
    "\n",
    "# validation = test_set   # now it will try to comapre that with the testing data cat folder \n",
    "\n",
    "\n",
    "cnn.fit(x = training_set, validation_data = test_set, epochs = 25)"
   ]
  },
  {
   "cell_type": "markdown",
   "id": "5c3a4bb3-2fc7-4673-aea1-c026f4194ddb",
   "metadata": {},
   "source": [
    "# MAKING PREDICTION "
   ]
  },
  {
   "cell_type": "code",
   "execution_count": 21,
   "id": "b0bc280f-c160-4835-ad34-454fd7c28233",
   "metadata": {},
   "outputs": [
    {
     "name": "stdout",
     "output_type": "stream",
     "text": [
      "1/1 [==============================] - 0s 65ms/step\n"
     ]
    }
   ],
   "source": [
    "# importing libraries \n",
    "import numpy as np\n",
    "from keras.preprocessing import image\n",
    "\n",
    "# loading the image \n",
    "test_image = image.load_img(r\"C:\\Users\\swapn\\Machine learning projects\\PREPINSTA\\DATASET\\CATS AND DOGS PROJECT\\dogs_cats\\single_prediction\\cat_dog10.jpg\", target_size=(64, 64))\n",
    "\n",
    "# convert the image to array \n",
    "test_image = image.img_to_array(test_image)\n",
    "\n",
    "# expand the dimension of image \n",
    "test_image = np.expand_dims(test_image, axis=0)\n",
    "\n",
    "# result prediction \n",
    "result = cnn.predict(test_image)\n",
    "\n",
    "# Get the class indices\n",
    "class_indices = training_set.class_indices\n",
    "\n",
    "# Check the result and assign prediction\n",
    "if result[0][0] == 1:   # This image is stored in the 2 d array \n",
    "    prediction = \"dog\"    # on;y 1 element present in the 2 d array \n",
    "else:\n",
    "    prediction = \"cat\"\n"
   ]
  },
  {
   "cell_type": "code",
   "execution_count": 22,
   "id": "67523b68-1410-4238-8b57-bc55db732049",
   "metadata": {},
   "outputs": [
    {
     "name": "stdout",
     "output_type": "stream",
     "text": [
      "dog\n"
     ]
    }
   ],
   "source": [
    "print(prediction)"
   ]
  },
  {
   "cell_type": "code",
   "execution_count": 28,
   "id": "ebb382c6-43c4-407c-8b44-e7de2de94d25",
   "metadata": {},
   "outputs": [
    {
     "data": {
      "image/jpeg": "[encoded data removed]",
      "text/plain": [
       "<IPython.core.display.Image object>"
      ]
     },
     "metadata": {},
     "output_type": "display_data"
    }
   ],
   "source": [
    "from IPython.display import Image, display\n",
    "\n",
    "file_path = r\"C:\\Users\\swapn\\Machine learning projects\\PREPINSTA\\DATASET\\CATS AND DOGS PROJECT\\dogs_cats\\single_prediction\\cat_dog10.jpg\"\n",
    "\n",
    "display(Image(filename=file_path))\n"
   ]
  },
  {
   "cell_type": "code",
   "execution_count": 20,
   "id": "880b1bcd-5e77-4218-9f1c-1bd19a365ee7",
   "metadata": {},
   "outputs": [
    {
     "name": "stdout",
     "output_type": "stream",
     "text": [
      "{'cats': 0, 'dogs': 1}\n"
     ]
    }
   ],
   "source": [
    "print(class_indices)"
   ]
  }
 ],
 "metadata": {
  "kernelspec": {
   "display_name": "Python 3 (ipykernel)",
   "language": "python",
   "name": "python3"
  },
  "language_info": {
   "codemirror_mode": {
    "name": "ipython",
    "version": 3
   },
   "file_extension": ".py",
   "mimetype": "text/x-python",
   "name": "python",
   "nbconvert_exporter": "python",
   "pygments_lexer": "ipython3",
   "version": "3.11.5"
  }
 },
 "nbformat": 4,
 "nbformat_minor": 5
}
